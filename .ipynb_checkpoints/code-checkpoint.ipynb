{
 "cells": [
  {
   "cell_type": "markdown",
   "metadata": {},
   "source": [
    "# Code"
   ]
  },
  {
   "cell_type": "code",
   "execution_count": 1,
   "metadata": {},
   "outputs": [],
   "source": [
    "from commonfunctions import *\n",
    "from skimage.exposure import histogram\n",
    "from skimage.measure import find_contours\n",
    "from skimage.draw import rectangle\n",
    "from skimage.morphology import binary_opening, binary_erosion, binary_closing\n",
    "from ArabicOcr import arabicocr\n",
    "%matplotlib inline\n",
    "%load_ext autoreload\n",
    "%autoreload 2"
   ]
  },
  {
   "cell_type": "code",
   "execution_count": 9,
   "metadata": {},
   "outputs": [],
   "source": [
    "def movePointBy90(hieght, width, i, j):\n",
    "    iNew = -j + width - 1\n",
    "    jNew = i\n",
    "    return int(iNew), int(jNew)\n",
    "\n",
    "def rotateMatrix90(mat):\n",
    "    image2 = np.zeros([mat.shape[1], mat.shape[0]])\n",
    "    for i in range(mat.shape[0]-1):\n",
    "        for j in range(mat.shape[1]-1):\n",
    "            newPoint = movePointBy90(mat.shape[0], mat.shape[1], i, j)\n",
    "            image2[newPoint[0], newPoint[1]]=mat[i,j]\n",
    "    return image2\n",
    "def rotateMatrixNTimes(mat, n=1):\n",
    "    for i in range(0, n):\n",
    "        mat = rotateMatrix90(mat)\n",
    "    return mat\n",
    "\n",
    "def get_chars(img):\n",
    "    contours = find_contours(img, 0.8)\n",
    "    with_boxes  = np.zeros(img.shape, dtype=float)\n",
    "    bounding_boxes = []\n",
    "\n",
    "    for contour in contours:\n",
    "        Xmin = int(np.min(contour[:,1]))\n",
    "        Xmax = int(np.max(contour[:,1]))\n",
    "        Ymin = int(np.min(contour[:,0]))\n",
    "        Ymax = int(np.max(contour[:,0]))\n",
    "        bounding_boxes.append([Xmin, Xmax, Ymin, Ymax])\n",
    "\n",
    "    for box in bounding_boxes:\n",
    "        [Xmin, Xmax, Ymin, Ymax] = box\n",
    "        if(abs(Xmax-Xmin)/abs(Ymax-Ymin) >= 0.1 and abs(Xmax-Xmin)/abs(Ymax-Ymin) <= 1.9 and abs(Ymax-Ymin) > 12):\n",
    "            rr, cc = rectangle(start = (Ymin,Xmin), end = (Ymax,Xmax), shape=with_boxes.shape)\n",
    "            with_boxes[rr, cc] = 1 #set color black\n",
    "            char = img[rr,cc]\n",
    "            char = rotateMatrixNTimes(char, 3)\n",
    "            char = np.fliplr(char)\n",
    "            io.imsave(\"char.jpg\", char)\n",
    "            results = arabicocr.arabic_ocr(\"char.jpg\", 'dummy.jpg')\n",
    "            print(results)\n",
    "            show_images([char], [\"Char\"])\n"
   ]
  },
  {
   "cell_type": "code",
   "execution_count": 8,
   "metadata": {
    "scrolled": true
   },
   "outputs": [
    {
     "data": {
      "text/plain": [
       "'show_images([image], [\"Original\"])\\nimage = image > 70\\nshow_images([image], [\"Binary\"])\\nx,y = image.shape\\nrightPart = image[int(x//2.5):x-int(x//10),int(y//1.7):y]\\nleftPart = image[int(x//2.5):x-int(x//10),int(y//25):int(y//2)]\\nshow_images([leftPart, rightPart], [\"Binary left part\", \"Binary right part\"])\\n\\nstructuringEl = np.ones((2, 2))        \\nleftPart = binary_closing(leftPart, structuringEl)\\nshow_images([leftPart], [\"After morphology\"])\\nget_chars(leftPart)\\nget_chars(rightPart)\\n\\nshow_images([leftPart, with_boxes], [\"Before boxes\", \"With only objects\"])'"
      ]
     },
     "execution_count": 8,
     "metadata": {},
     "output_type": "execute_result"
    }
   ],
   "source": [
    "image = (rgb2gray(io.imread(\"img.jpg\")) * 255).astype(\"uint8\")\n",
    "show_images([image], [\"Original\"])\n",
    "image = image > 70\n",
    "show_images([image], [\"Binary\"])\n",
    "x,y = image.shape\n",
    "rightPart = image[int(x//2.5):x-int(x//10),int(y//1.7):y]\n",
    "leftPart = image[int(x//2.5):x-int(x//10),int(y//25):int(y//2)]\n",
    "show_images([leftPart, rightPart], [\"Binary left part\", \"Binary right part\"])\n",
    "\n",
    "structuringEl = np.ones((2, 2))        \n",
    "leftPart = binary_closing(leftPart, structuringEl)\n",
    "show_images([leftPart], [\"After morphology\"])\n",
    "get_chars(leftPart)\n",
    "get_chars(rightPart)\n",
    "\n",
    "show_images([leftPart, with_boxes], [\"Before boxes\", \"With only objects\"])\n"
   ]
  }
 ],
 "metadata": {
  "kernelspec": {
   "display_name": "Python 3",
   "language": "python",
   "name": "python3"
  },
  "language_info": {
   "codemirror_mode": {
    "name": "ipython",
    "version": 3
   },
   "file_extension": ".py",
   "mimetype": "text/x-python",
   "name": "python",
   "nbconvert_exporter": "python",
   "pygments_lexer": "ipython3",
   "version": "3.8.8"
  }
 },
 "nbformat": 4,
 "nbformat_minor": 2
}
